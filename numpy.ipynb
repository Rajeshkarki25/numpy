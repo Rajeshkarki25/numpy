{
 "cells": [
  {
   "cell_type": "code",
   "execution_count": 1,
   "id": "6dc5c422-d95e-4738-b39e-7416dde95eec",
   "metadata": {
    "tags": []
   },
   "outputs": [],
   "source": [
    "import numpy as np\n"
   ]
  },
  {
   "cell_type": "code",
   "execution_count": 2,
   "id": "3c763802-2f0d-4fc7-9630-377eaf6a3ac0",
   "metadata": {
    "tags": []
   },
   "outputs": [
    {
     "name": "stdout",
     "output_type": "stream",
     "text": [
      "1.24.3\n"
     ]
    }
   ],
   "source": [
    "print(np.__version__)"
   ]
  },
  {
   "cell_type": "code",
   "execution_count": 3,
   "id": "0592db24-3435-4e01-a393-5f35f6786b92",
   "metadata": {
    "tags": []
   },
   "outputs": [
    {
     "name": "stdout",
     "output_type": "stream",
     "text": [
      "[1 2 3 4 5 6 7 8 9]\n",
      "<class 'numpy.ndarray'>\n"
     ]
    }
   ],
   "source": [
    "l = [1,2,3,4,5,6,7,8,9]\n",
    "x = np.array(l)\n",
    "print(x)\n",
    "print(type(x))"
   ]
  },
  {
   "cell_type": "code",
   "execution_count": 4,
   "id": "7bb731c0-da1d-4d47-b559-9e9cca9adf8f",
   "metadata": {
    "tags": []
   },
   "outputs": [
    {
     "name": "stdout",
     "output_type": "stream",
     "text": [
      "[ 6  7  8  9 10 11 12 13 14]\n",
      "[-4 -3 -2 -1  0  1  2  3  4]\n",
      "[0.2 0.4 0.6 0.8 1.  1.2 1.4 1.6 1.8]\n",
      "[ 5 10 15 20 25 30 35 40 45]\n"
     ]
    }
   ],
   "source": [
    "print(x+5)\n",
    "print(x-5)\n",
    "print(x/5)\n",
    "print(x*5)"
   ]
  },
  {
   "cell_type": "code",
   "execution_count": 5,
   "id": "f15309a0-359b-49e9-8fe1-366de55105f7",
   "metadata": {
    "tags": []
   },
   "outputs": [
    {
     "name": "stdout",
     "output_type": "stream",
     "text": [
      "[ 7  9 11 13 15]\n"
     ]
    }
   ],
   "source": [
    "a = np.array([1,2,3,4,5])\n",
    "b = np.array([6,7,8,9,10])\n",
    "c = a+b\n",
    "print(c)"
   ]
  },
  {
   "cell_type": "code",
   "execution_count": 6,
   "id": "f45c8f14-6196-4b22-bc3b-fb856d79a248",
   "metadata": {
    "tags": []
   },
   "outputs": [
    {
     "name": "stdout",
     "output_type": "stream",
     "text": [
      "(5,)\n"
     ]
    }
   ],
   "source": [
    "a = np.array([1,2,3,4,5])\n",
    "print(a.shape)"
   ]
  },
  {
   "cell_type": "code",
   "execution_count": 7,
   "id": "b8e1da73-e0e0-4966-945a-54a01a838f14",
   "metadata": {
    "tags": []
   },
   "outputs": [
    {
     "name": "stdout",
     "output_type": "stream",
     "text": [
      "(2, 5)\n"
     ]
    }
   ],
   "source": [
    "a = np.array([[1,2,3,4,5],\n",
    "              [6,7,8,9,10]])\n",
    "print(a.shape)"
   ]
  },
  {
   "cell_type": "code",
   "execution_count": 8,
   "id": "7916c917-9a16-458d-85f4-92bdbf0f22ba",
   "metadata": {
    "tags": []
   },
   "outputs": [
    {
     "name": "stdout",
     "output_type": "stream",
     "text": [
      "(2, 2, 3)\n"
     ]
    }
   ],
   "source": [
    "a = np.array([[[1,2,3],[4,5,0]],\n",
    "             [[6,7,8],[9,10,0]]])\n",
    "print(a.shape)"
   ]
  },
  {
   "cell_type": "code",
   "execution_count": 9,
   "id": "dc461677-7f0c-4c51-a36e-221910b54f2a",
   "metadata": {
    "tags": []
   },
   "outputs": [
    {
     "data": {
      "text/plain": [
       "array([[[0., 0., 0.],\n",
       "        [0., 0., 0.],\n",
       "        [0., 0., 0.],\n",
       "        [0., 0., 0.]],\n",
       "\n",
       "       [[0., 0., 0.],\n",
       "        [0., 0., 0.],\n",
       "        [0., 0., 0.],\n",
       "        [0., 0., 0.]],\n",
       "\n",
       "       [[0., 0., 0.],\n",
       "        [0., 0., 0.],\n",
       "        [0., 0., 0.],\n",
       "        [0., 0., 0.]]])"
      ]
     },
     "execution_count": 9,
     "metadata": {},
     "output_type": "execute_result"
    }
   ],
   "source": [
    "np.zeros((3,4,3))"
   ]
  },
  {
   "cell_type": "code",
   "execution_count": 10,
   "id": "50668470-aabd-4252-a816-7f61f5a2ab52",
   "metadata": {
    "tags": []
   },
   "outputs": [
    {
     "data": {
      "text/plain": [
       "array([[1., 0., 0.],\n",
       "       [0., 1., 0.],\n",
       "       [0., 0., 1.]])"
      ]
     },
     "execution_count": 10,
     "metadata": {},
     "output_type": "execute_result"
    }
   ],
   "source": [
    "np.eye(3,3)"
   ]
  },
  {
   "cell_type": "code",
   "execution_count": 11,
   "id": "311f18f5-f61b-4f3d-9397-a0b6925c56ff",
   "metadata": {
    "tags": []
   },
   "outputs": [
    {
     "name": "stdout",
     "output_type": "stream",
     "text": [
      "(2, 3)\n",
      "[[1 2]\n",
      " [3 4]\n",
      " [5 6]]\n",
      "[[1 2 3 4 5 6]]\n",
      "[[1 2]\n",
      " [3 4]\n",
      " [5 6]]\n",
      "[[1]\n",
      " [2]\n",
      " [3]\n",
      " [4]\n",
      " [5]\n",
      " [6]]\n"
     ]
    }
   ],
   "source": [
    "a = np.array([[1,2,3],\n",
    "              [4,5,6]])\n",
    "print(a.shape)\n",
    "print(a.reshape(3,2))\n",
    "print(a.reshape(1,6))\n",
    "print(a.reshape(3,2))\n",
    "print(a.reshape(6,1))"
   ]
  },
  {
   "cell_type": "code",
   "execution_count": 12,
   "id": "a53beaa7-f4f8-46b9-a828-0816279ba9bb",
   "metadata": {
    "tags": []
   },
   "outputs": [
    {
     "name": "stdout",
     "output_type": "stream",
     "text": [
      "[[ 2  4  6]\n",
      " [ 8 10 12]]\n"
     ]
    }
   ],
   "source": [
    "a = np.array([[1,2,3],\n",
    "              [4,5,6]])\n",
    "b = np.array([[1,2,3],\n",
    "              [4,5,6]])\n",
    "c = a+b\n",
    "print(c)"
   ]
  },
  {
   "cell_type": "code",
   "execution_count": 13,
   "id": "c99ccef8-76cb-4fe0-afdb-d8a77fcbbe73",
   "metadata": {
    "tags": []
   },
   "outputs": [
    {
     "data": {
      "text/plain": [
       "array([[1, 2, 3, 7, 8, 9],\n",
       "       [4, 5, 6, 0, 4, 6]])"
      ]
     },
     "execution_count": 13,
     "metadata": {},
     "output_type": "execute_result"
    }
   ],
   "source": [
    "a = np.array([[1,2,3],\n",
    "              [4,5,6]])\n",
    "b = np.array([[7,8,9],\n",
    "              [0,4,6]])\n",
    "np.hstack((a,b))"
   ]
  },
  {
   "cell_type": "code",
   "execution_count": 14,
   "id": "f6834848-eb17-47f1-bae7-a86b0927b7e4",
   "metadata": {
    "tags": []
   },
   "outputs": [
    {
     "data": {
      "text/plain": [
       "array([[1, 2, 3],\n",
       "       [4, 5, 6],\n",
       "       [1, 2, 3],\n",
       "       [4, 5, 6]])"
      ]
     },
     "execution_count": 14,
     "metadata": {},
     "output_type": "execute_result"
    }
   ],
   "source": [
    "a = np.array([[1,2,3],\n",
    "              [4,5,6]])\n",
    "b = np.array([[1,2,3],\n",
    "              [4,5,6]])\n",
    "np.vstack((a,b))"
   ]
  },
  {
   "cell_type": "code",
   "execution_count": 15,
   "id": "5a77ba37-9e80-4415-a98f-213b6fe43e2d",
   "metadata": {
    "tags": []
   },
   "outputs": [
    {
     "data": {
      "text/plain": [
       "array([1, 2, 3, 4, 5, 6])"
      ]
     },
     "execution_count": 15,
     "metadata": {},
     "output_type": "execute_result"
    }
   ],
   "source": [
    "a = np.array([1,2,3])\n",
    "b = np.array([4,5,6])\n",
    "np.hstack((a,b))"
   ]
  },
  {
   "cell_type": "code",
   "execution_count": 16,
   "id": "48a0f29a-0399-49af-8deb-0675e2db8fcd",
   "metadata": {
    "tags": []
   },
   "outputs": [
    {
     "data": {
      "text/plain": [
       "array([[1, 2, 3],\n",
       "       [4, 5, 6]])"
      ]
     },
     "execution_count": 16,
     "metadata": {},
     "output_type": "execute_result"
    }
   ],
   "source": [
    "a = np.array([1,2,3])\n",
    "b = np.array([4,5,6])\n",
    "np.vstack((a,b))"
   ]
  },
  {
   "cell_type": "code",
   "execution_count": 17,
   "id": "620de9d2-c872-402f-bb65-7a26c06c18f2",
   "metadata": {
    "tags": []
   },
   "outputs": [
    {
     "name": "stdout",
     "output_type": "stream",
     "text": [
      "[[0.99501898 0.58301866]\n",
      " [0.23870957 0.07028444]]\n"
     ]
    }
   ],
   "source": [
    "print(np.random.rand(2,2))"
   ]
  },
  {
   "cell_type": "code",
   "execution_count": 18,
   "id": "57115964-4846-46f8-9ce2-bd1899538bec",
   "metadata": {
    "tags": []
   },
   "outputs": [
    {
     "name": "stdout",
     "output_type": "stream",
     "text": [
      "[[4 1 0 8 7]\n",
      " [7 9 0 5 7]\n",
      " [8 6 1 5 2]\n",
      " [8 8 6 8 8]\n",
      " [8 7 2 3 2]]\n"
     ]
    }
   ],
   "source": [
    "print(np.random.randint(0,10,size =[5,5]))"
   ]
  },
  {
   "cell_type": "code",
   "execution_count": 19,
   "id": "99cac537-2183-444a-a655-fcdefd2a5cd6",
   "metadata": {
    "tags": []
   },
   "outputs": [
    {
     "name": "stdout",
     "output_type": "stream",
     "text": [
      "0.651773394741912\n"
     ]
    }
   ],
   "source": [
    "print(np.random.random())"
   ]
  },
  {
   "cell_type": "code",
   "execution_count": 20,
   "id": "cf826efa-00dd-4e76-a100-e9fbf59cbeb5",
   "metadata": {
    "tags": []
   },
   "outputs": [
    {
     "name": "stdout",
     "output_type": "stream",
     "text": [
      "[[0.50953776 0.34445684]\n",
      " [0.42713087 0.81075585]]\n"
     ]
    }
   ],
   "source": [
    "print(np.random.random(size = [2,2]))"
   ]
  },
  {
   "cell_type": "code",
   "execution_count": 21,
   "id": "e0a375a8-9598-4b22-89d9-95c65b509e36",
   "metadata": {
    "tags": []
   },
   "outputs": [
    {
     "name": "stdout",
     "output_type": "stream",
     "text": [
      "[['o' 'e' 'e' 'u']\n",
      " ['a' 'i' 'i' 'a']\n",
      " ['a' 'e' 'i' 'a']\n",
      " ['a' 'a' 'e' 'i']\n",
      " ['i' 'a' 'u' 'a']\n",
      " ['o' 'u' 'o' 'a']\n",
      " ['u' 'i' 'a' 'u']\n",
      " ['a' 'o' 'o' 'i']\n",
      " ['e' 'o' 'i' 'e']\n",
      " ['o' 'o' 'o' 'e']]\n"
     ]
    }
   ],
   "source": [
    "print(np.random.choice(['a','e','i','o','u'],size =[ 10,4]))"
   ]
  },
  {
   "cell_type": "code",
   "execution_count": 22,
   "id": "2a34cdcd-10d9-4dd3-a2bb-4d2761355244",
   "metadata": {
    "tags": []
   },
   "outputs": [
    {
     "name": "stdout",
     "output_type": "stream",
     "text": [
      "['o' 'o' 'a' 'o' 'a' 'u' 'a' 'e' 'a' 'o']\n"
     ]
    }
   ],
   "source": [
    "print(np.random.choice(['a','e','i','o','u'],size = 10,p=[0.3,0.1,0.1,0.4,0.1]))"
   ]
  },
  {
   "cell_type": "code",
   "execution_count": 23,
   "id": "53b51bbb-5938-4dde-af5a-ce01d2af786e",
   "metadata": {
    "tags": []
   },
   "outputs": [
    {
     "data": {
      "text/plain": [
       "array([[ 3,  5, 10,  9,  1],\n",
       "       [10,  3,  8,  9,  2],\n",
       "       [ 1,  5,  7, 10,  7],\n",
       "       [10,  8,  5,  7,  8],\n",
       "       [ 3,  1,  2,  8,  9]])"
      ]
     },
     "execution_count": 23,
     "metadata": {},
     "output_type": "execute_result"
    }
   ],
   "source": [
    "(np.random.randint(0,10,size =[5,5]))+1"
   ]
  },
  {
   "cell_type": "code",
   "execution_count": 24,
   "id": "7dabb63c-331b-4c6c-adf4-f263da66b7a9",
   "metadata": {
    "tags": []
   },
   "outputs": [
    {
     "name": "stdout",
     "output_type": "stream",
     "text": [
      "132\n",
      "876\n",
      "299.6\n",
      "288.9862280455593\n"
     ]
    }
   ],
   "source": [
    "import numpy as np\n",
    "a = np.array([132,134,167,189,876])\n",
    "print(np.min(a))\n",
    "print(np.max(a))\n",
    "print(np.mean(a))\n",
    "print(np.std(a))"
   ]
  },
  {
   "cell_type": "code",
   "execution_count": 25,
   "id": "80c13d4b-647a-4226-8b39-db50609897f2",
   "metadata": {
    "tags": []
   },
   "outputs": [
    {
     "data": {
      "text/plain": [
       "259.0"
      ]
     },
     "execution_count": 25,
     "metadata": {},
     "output_type": "execute_result"
    }
   ],
   "source": [
    "import scipy.linalg as slin\n",
    "a = np.array([[3,-5,8],\n",
    "              [-1,2,3],\n",
    "              [-5,-6,2]])\n",
    "slin.det(a)"
   ]
  },
  {
   "cell_type": "code",
   "execution_count": 26,
   "id": "a5d4edad-e1db-4013-b5d5-0799dea730f7",
   "metadata": {
    "tags": []
   },
   "outputs": [
    {
     "data": {
      "text/plain": [
       "7"
      ]
     },
     "execution_count": 26,
     "metadata": {},
     "output_type": "execute_result"
    }
   ],
   "source": [
    "a = np.array([[3,-5,8],\n",
    "              [-1,2,3],\n",
    "              [-5,-6,2]])\n",
    "np.trace(a)"
   ]
  },
  {
   "cell_type": "code",
   "execution_count": 27,
   "id": "954da6fd-ff90-4978-b20f-f2fbed4351e8",
   "metadata": {
    "tags": []
   },
   "outputs": [
    {
     "data": {
      "text/plain": [
       "array([[ 0.08494208, -0.14671815, -0.11969112],\n",
       "       [-0.05019305,  0.17760618, -0.06563707],\n",
       "       [ 0.06177606,  0.16602317,  0.003861  ]])"
      ]
     },
     "execution_count": 27,
     "metadata": {},
     "output_type": "execute_result"
    }
   ],
   "source": [
    "import scipy.linalg as slin\n",
    "a = np.array([[3,-5,8],\n",
    "              [-1,2,3],\n",
    "              [-5,-6,2]])\n",
    "slin.inv(a)"
   ]
  },
  {
   "cell_type": "code",
   "execution_count": 28,
   "id": "0a15c1ed-7e8f-43e7-a9c3-4c7d914ae39c",
   "metadata": {
    "tags": []
   },
   "outputs": [
    {
     "data": {
      "text/plain": [
       "array([[ 3, -1, -5],\n",
       "       [-5,  2, -6],\n",
       "       [ 8,  3,  2]])"
      ]
     },
     "execution_count": 28,
     "metadata": {},
     "output_type": "execute_result"
    }
   ],
   "source": [
    "a = np.array([[3,-5,8],\n",
    "              [-1,2,3],\n",
    "              [-5,-6,2]])\n",
    "np.transpose(a)"
   ]
  },
  {
   "cell_type": "code",
   "execution_count": 29,
   "id": "6675a8d8-019d-4dfc-aae8-ee2f2ff65702",
   "metadata": {
    "tags": []
   },
   "outputs": [
    {
     "name": "stdout",
     "output_type": "stream",
     "text": [
      "[[-339]\n",
      " [-118]\n",
      " [-121]]\n"
     ]
    }
   ],
   "source": [
    "a = np.matrix([[3,-5,8],\n",
    "              [-1,2,3],\n",
    "              [-5,-6,2]])\n",
    "b = np.matrix([[3],\n",
    "               [4],\n",
    "               [-41]])\n",
    "print(a*b)"
   ]
  },
  {
   "cell_type": "code",
   "execution_count": null,
   "id": "3d722421-53b7-44d7-832b-61b6edf0736f",
   "metadata": {},
   "outputs": [],
   "source": []
  }
 ],
 "metadata": {
  "kernelspec": {
   "display_name": "Python 3 (ipykernel)",
   "language": "python",
   "name": "python3"
  },
  "language_info": {
   "codemirror_mode": {
    "name": "ipython",
    "version": 3
   },
   "file_extension": ".py",
   "mimetype": "text/x-python",
   "name": "python",
   "nbconvert_exporter": "python",
   "pygments_lexer": "ipython3",
   "version": "3.11.5"
  }
 },
 "nbformat": 4,
 "nbformat_minor": 5
}
